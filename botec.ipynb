{
 "cells": [
  {
   "cell_type": "markdown",
   "metadata": {},
   "source": [
    "We estimate the # of parameters in edm diffusion models,\n",
    "and estimate the inference cost of these model."
   ]
  },
  {
   "cell_type": "markdown",
   "metadata": {},
   "source": [
    "### Imports"
   ]
  },
  {
   "cell_type": "code",
   "execution_count": 1,
   "metadata": {},
   "outputs": [],
   "source": [
    "import pickle\n",
    "\n",
    "import numpy as np\n",
    "import PIL.Image\n",
    "import torch\n",
    "from tqdm.auto import tqdm\n",
    "\n",
    "from torch import nn\n",
    "\n",
    "import dnnlib"
   ]
  },
  {
   "cell_type": "markdown",
   "metadata": {},
   "source": [
    "### Load network"
   ]
  },
  {
   "cell_type": "code",
   "execution_count": 2,
   "metadata": {},
   "outputs": [],
   "source": [
    "MODEL_ROOT = \"https://nvlabs-fi-cdn.nvidia.com/edm/pretrained\"\n",
    "\n",
    "with dnnlib.util.open_url(f\"{MODEL_ROOT}/edm-cifar10-32x32-cond-vp.pkl\") as f:\n",
    "    net_cond = pickle.load(f)[\"ema\"]\n",
    "with dnnlib.util.open_url(f\"{MODEL_ROOT}/edm-cifar10-32x32-uncond-vp.pkl\") as f:\n",
    "    net_uncond = pickle.load(f)[\"ema\"]"
   ]
  },
  {
   "cell_type": "code",
   "execution_count": 3,
   "metadata": {},
   "outputs": [
    {
     "name": "stdout",
     "output_type": "stream",
     "text": [
      "cond:   55,735,299 params\n",
      "uncond: 55,733,891 params\n"
     ]
    }
   ],
   "source": [
    "def get_num_params(net: nn.Module) -> int:\n",
    "    return sum(p.numel() for p in net.parameters())\n",
    "\n",
    "print(f\"cond:   {get_num_params(net_cond):,d} params\")\n",
    "print(f\"uncond: {get_num_params(net_uncond):,d} params\")"
   ]
  },
  {
   "cell_type": "markdown",
   "metadata": {},
   "source": [
    "### Measure inference cost"
   ]
  },
  {
   "cell_type": "code",
   "execution_count": 4,
   "metadata": {},
   "outputs": [],
   "source": [
    "net = net_uncond.cuda()\n",
    "\n",
    "seed = 0\n",
    "gridw = 10\n",
    "gridh = 10\n",
    "num_steps = 200\n",
    "rho = 7\n",
    "S_churn = 0\n",
    "S_min = 0\n",
    "S_max = float(\"inf\")\n",
    "S_noise = 1\n",
    "\n",
    "device = torch.device(\"cuda\")\n",
    "\n",
    "sigma_min = 0.002\n",
    "sigma_max = 80\n",
    "sigma_min = max(sigma_min, net.sigma_min)\n",
    "sigma_max = min(sigma_max, net.sigma_max)\n",
    "\n",
    "torch.manual_seed(seed)\n",
    "batch_size = gridw * gridh\n",
    "\n",
    "latents = torch.randn(\n",
    "    [batch_size, net.img_channels, net.img_resolution, net.img_resolution],\n",
    "    device=device,\n",
    ")\n",
    "class_labels = None\n",
    "\n",
    "# Time step discretization.\n",
    "step_indices = torch.arange(num_steps, dtype=torch.float64, device=device)\n",
    "t_steps = (\n",
    "    sigma_max ** (1 / rho)\n",
    "    + step_indices / (num_steps - 1) * (sigma_min ** (1 / rho) - sigma_max ** (1 / rho))\n",
    ") ** rho\n",
    "t_steps = torch.cat(\n",
    "    [net.round_sigma(t_steps), torch.zeros_like(t_steps[:1])]\n",
    ")  # t_N = 0"
   ]
  },
  {
   "cell_type": "code",
   "execution_count": 5,
   "metadata": {},
   "outputs": [
    {
     "data": {
      "application/vnd.jupyter.widget-view+json": {
       "model_id": "5732890deb9e4037ad0393eb0416b711",
       "version_major": 2,
       "version_minor": 0
      },
      "text/plain": [
       "  0%|          | 0/200 [00:00<?, ?step/s]"
      ]
     },
     "metadata": {},
     "output_type": "display_data"
    }
   ],
   "source": [
    "with torch.no_grad():\n",
    "    x_next = latents.to(torch.float64) * t_steps[0]\n",
    "    for i, (t_cur, t_next) in tqdm(\n",
    "        list(enumerate(zip(t_steps[:-1], t_steps[1:]))), unit=\"step\"\n",
    "    ):  # 0, ..., N-1\n",
    "        x_cur = x_next\n",
    "\n",
    "        # Increase noise temporarily.\n",
    "        gamma = (\n",
    "            min(S_churn / num_steps, np.sqrt(2) - 1) if S_min <= t_cur <= S_max else 0\n",
    "        )\n",
    "        t_hat = net.round_sigma(t_cur + gamma * t_cur)\n",
    "        x_hat = x_cur + (t_hat**2 - t_cur**2).sqrt() * S_noise * torch.randn_like(\n",
    "            x_cur\n",
    "        )\n",
    "\n",
    "        # Euler step.\n",
    "        denoised = net(x_hat, t_hat, class_labels).to(torch.float64)\n",
    "        d_cur = (x_hat - denoised) / t_hat\n",
    "        x_next = x_hat + (t_next - t_hat) * d_cur\n",
    "\n",
    "        # Apply 2nd order correction.\n",
    "        if i < num_steps - 1:\n",
    "            denoised = net(x_next, t_next, class_labels).to(torch.float64)\n",
    "            d_prime = (x_next - denoised) / t_next\n",
    "            x_next = x_hat + (t_next - t_hat) * (0.5 * d_cur + 0.5 * d_prime)"
   ]
  },
  {
   "cell_type": "code",
   "execution_count": null,
   "metadata": {},
   "outputs": [],
   "source": []
  }
 ],
 "metadata": {
  "kernelspec": {
   "display_name": "Python 3",
   "language": "python",
   "name": "python3"
  },
  "language_info": {
   "codemirror_mode": {
    "name": "ipython",
    "version": 3
   },
   "file_extension": ".py",
   "mimetype": "text/x-python",
   "name": "python",
   "nbconvert_exporter": "python",
   "pygments_lexer": "ipython3",
   "version": "3.10.12"
  }
 },
 "nbformat": 4,
 "nbformat_minor": 2
}
